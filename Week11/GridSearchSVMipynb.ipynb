{
  "nbformat": 4,
  "nbformat_minor": 0,
  "metadata": {
    "colab": {
      "name": "GridSearchSVMipynb",
      "provenance": [],
      "collapsed_sections": [],
      "toc_visible": true
    },
    "kernelspec": {
      "name": "python3",
      "display_name": "Python 3"
    },
    "language_info": {
      "name": "python"
    }
  },
  "cells": [
    {
      "cell_type": "code",
      "metadata": {
        "colab": {
          "base_uri": "https://localhost:8080/"
        },
        "id": "gTaTj7WEgmei",
        "outputId": "94b99b36-867a-4fcb-fc8f-d483943b6d3a"
      },
      "source": [
        "from google.colab import drive\n",
        "drive.mount('/content/drive')"
      ],
      "execution_count": null,
      "outputs": [
        {
          "output_type": "stream",
          "name": "stdout",
          "text": [
            "Drive already mounted at /content/drive; to attempt to forcibly remount, call drive.mount(\"/content/drive\", force_remount=True).\n"
          ]
        }
      ]
    },
    {
      "cell_type": "code",
      "metadata": {
        "id": "GScFuAxEgtvC"
      },
      "source": [
        "import pandas as pd\n",
        "import numpy as np\n",
        "import matplotlib.pyplot as plt \n",
        "import seaborn as sns\n",
        "\n",
        "from sklearn.model_selection import train_test_split, KFold, cross_val_score, StratifiedKFold\n",
        "from sklearn.preprocessing import StandardScaler\n",
        "from sklearn.svm import SVC\n",
        "from sklearn.model_selection import GridSearchCV\n",
        "from sklearn.metrics import accuracy_score\n",
        "import tensorflow as tf "
      ],
      "execution_count": null,
      "outputs": []
    },
    {
      "cell_type": "markdown",
      "metadata": {
        "id": "ICh_-jLbh4tk"
      },
      "source": [
        "# Read data"
      ]
    },
    {
      "cell_type": "code",
      "metadata": {
        "colab": {
          "base_uri": "https://localhost:8080/",
          "height": 414
        },
        "id": "k90SFsfEg391",
        "outputId": "bd88ca0e-369f-4798-e9bd-0ebd5cfe2d39"
      },
      "source": [
        "df = pd.read_csv('/content/drive/MyDrive/Social_Network_Ads.csv')\n",
        "df"
      ],
      "execution_count": null,
      "outputs": [
        {
          "output_type": "execute_result",
          "data": {
            "text/html": [
              "<div>\n",
              "<style scoped>\n",
              "    .dataframe tbody tr th:only-of-type {\n",
              "        vertical-align: middle;\n",
              "    }\n",
              "\n",
              "    .dataframe tbody tr th {\n",
              "        vertical-align: top;\n",
              "    }\n",
              "\n",
              "    .dataframe thead th {\n",
              "        text-align: right;\n",
              "    }\n",
              "</style>\n",
              "<table border=\"1\" class=\"dataframe\">\n",
              "  <thead>\n",
              "    <tr style=\"text-align: right;\">\n",
              "      <th></th>\n",
              "      <th>Age</th>\n",
              "      <th>EstimatedSalary</th>\n",
              "      <th>Purchased</th>\n",
              "    </tr>\n",
              "  </thead>\n",
              "  <tbody>\n",
              "    <tr>\n",
              "      <th>0</th>\n",
              "      <td>19</td>\n",
              "      <td>19000</td>\n",
              "      <td>0</td>\n",
              "    </tr>\n",
              "    <tr>\n",
              "      <th>1</th>\n",
              "      <td>35</td>\n",
              "      <td>20000</td>\n",
              "      <td>0</td>\n",
              "    </tr>\n",
              "    <tr>\n",
              "      <th>2</th>\n",
              "      <td>26</td>\n",
              "      <td>43000</td>\n",
              "      <td>0</td>\n",
              "    </tr>\n",
              "    <tr>\n",
              "      <th>3</th>\n",
              "      <td>27</td>\n",
              "      <td>57000</td>\n",
              "      <td>0</td>\n",
              "    </tr>\n",
              "    <tr>\n",
              "      <th>4</th>\n",
              "      <td>19</td>\n",
              "      <td>76000</td>\n",
              "      <td>0</td>\n",
              "    </tr>\n",
              "    <tr>\n",
              "      <th>...</th>\n",
              "      <td>...</td>\n",
              "      <td>...</td>\n",
              "      <td>...</td>\n",
              "    </tr>\n",
              "    <tr>\n",
              "      <th>395</th>\n",
              "      <td>46</td>\n",
              "      <td>41000</td>\n",
              "      <td>1</td>\n",
              "    </tr>\n",
              "    <tr>\n",
              "      <th>396</th>\n",
              "      <td>51</td>\n",
              "      <td>23000</td>\n",
              "      <td>1</td>\n",
              "    </tr>\n",
              "    <tr>\n",
              "      <th>397</th>\n",
              "      <td>50</td>\n",
              "      <td>20000</td>\n",
              "      <td>1</td>\n",
              "    </tr>\n",
              "    <tr>\n",
              "      <th>398</th>\n",
              "      <td>36</td>\n",
              "      <td>33000</td>\n",
              "      <td>0</td>\n",
              "    </tr>\n",
              "    <tr>\n",
              "      <th>399</th>\n",
              "      <td>49</td>\n",
              "      <td>36000</td>\n",
              "      <td>1</td>\n",
              "    </tr>\n",
              "  </tbody>\n",
              "</table>\n",
              "<p>400 rows × 3 columns</p>\n",
              "</div>"
            ],
            "text/plain": [
              "     Age  EstimatedSalary  Purchased\n",
              "0     19            19000          0\n",
              "1     35            20000          0\n",
              "2     26            43000          0\n",
              "3     27            57000          0\n",
              "4     19            76000          0\n",
              "..   ...              ...        ...\n",
              "395   46            41000          1\n",
              "396   51            23000          1\n",
              "397   50            20000          1\n",
              "398   36            33000          0\n",
              "399   49            36000          1\n",
              "\n",
              "[400 rows x 3 columns]"
            ]
          },
          "metadata": {},
          "execution_count": 78
        }
      ]
    },
    {
      "cell_type": "markdown",
      "metadata": {
        "id": "MjGEhLbkjBJv"
      },
      "source": [
        "# Chia tập train test"
      ]
    },
    {
      "cell_type": "code",
      "metadata": {
        "id": "PS1AgOYKiPM1"
      },
      "source": [
        "df_train, df_test = train_test_split(df, test_size=0.2, shuffle=True, random_state=1)"
      ],
      "execution_count": null,
      "outputs": []
    },
    {
      "cell_type": "code",
      "metadata": {
        "id": "AAg3-FNoqqZT"
      },
      "source": [
        "df_train_val = df_train.copy()"
      ],
      "execution_count": null,
      "outputs": []
    },
    {
      "cell_type": "code",
      "metadata": {
        "id": "mth39dp0qg-V"
      },
      "source": [
        "df_train, df_val = train_test_split(df_train, test_size=0.25, shuffle=True, random_state=1)"
      ],
      "execution_count": null,
      "outputs": []
    },
    {
      "cell_type": "code",
      "metadata": {
        "colab": {
          "base_uri": "https://localhost:8080/"
        },
        "id": "HOg71iB1jNFz",
        "outputId": "f9423c17-7bbd-4714-a2b7-a771d26d984e"
      },
      "source": [
        "df_train.shape, df_val.shape, df_test.shape"
      ],
      "execution_count": null,
      "outputs": [
        {
          "output_type": "execute_result",
          "data": {
            "text/plain": [
              "((240, 3), (80, 3), (80, 3))"
            ]
          },
          "metadata": {},
          "execution_count": 82
        }
      ]
    },
    {
      "cell_type": "markdown",
      "metadata": {
        "id": "yMS2KDL3jVfw"
      },
      "source": [
        "# Chuẩn hóa dữ liệu"
      ]
    },
    {
      "cell_type": "code",
      "metadata": {
        "id": "XWlXRkGMjQv6"
      },
      "source": [
        "X_train = df_train.drop(columns=['Purchased'])\n",
        "y_train = df_train['Purchased']"
      ],
      "execution_count": null,
      "outputs": []
    },
    {
      "cell_type": "code",
      "metadata": {
        "id": "OJ4AFFhnjY1z"
      },
      "source": [
        "X_val = df_val.drop(columns=['Purchased'])\n",
        "y_val = df_val['Purchased']"
      ],
      "execution_count": null,
      "outputs": []
    },
    {
      "cell_type": "code",
      "metadata": {
        "id": "MoNHQOEqjep0"
      },
      "source": [
        "X_test = df_test.drop(columns=['Purchased'])\n",
        "y_test = df_test['Purchased']"
      ],
      "execution_count": null,
      "outputs": []
    },
    {
      "cell_type": "code",
      "metadata": {
        "id": "hET7D6r6ji4i"
      },
      "source": [
        "X_train = StandardScaler().fit_transform(X_train)\n",
        "X_val = StandardScaler().fit_transform(X_val)\n",
        "X_test = StandardScaler().fit_transform(X_test)"
      ],
      "execution_count": null,
      "outputs": []
    },
    {
      "cell_type": "markdown",
      "metadata": {
        "id": "ZzKAsV3ZkLDD"
      },
      "source": [
        "# Các siêu tham số "
      ]
    },
    {
      "cell_type": "code",
      "metadata": {
        "id": "3zY9UbNtjwSj"
      },
      "source": [
        "param = {\n",
        "            'kernel': ['linear', 'poly', 'rbf', 'sigmoid'],\n",
        "            'gamma': ['scale', 'auto'],\n",
        "            'C': [0.1, 1, 10, 100, 1000],\n",
        "            'shrinking': [True, False],\n",
        "            'degree': [0, 1, 2, 3, 4, 5, 6],\n",
        "        }"
      ],
      "execution_count": null,
      "outputs": []
    },
    {
      "cell_type": "markdown",
      "metadata": {
        "id": "UNsfVma4lniX"
      },
      "source": [
        "# GridSearchCV\n"
      ]
    },
    {
      "cell_type": "code",
      "metadata": {
        "id": "APutJdgynQUo"
      },
      "source": [
        "best_param = {'kernel': [], 'gamma': [], 'C': [], 'shrinking': [], 'degree': []}\n",
        "best_score = -1"
      ],
      "execution_count": null,
      "outputs": []
    },
    {
      "cell_type": "code",
      "metadata": {
        "id": "x0yPw2S3lh7t"
      },
      "source": [
        "kernel_best, gamma_best, C_best, shrinking_best, best_degree = \"\", \"\", -100, \"\", -100\n",
        "for kernel in param['kernel']:\n",
        "    for gamma in param['gamma']:\n",
        "        for C in param['C']:\n",
        "            for shrinking in param['shrinking']:\n",
        "                for degree in param['degree']:\n",
        "                    model = SVC(kernel=kernel, gamma=gamma, C=C, shrinking=shrinking, degree=degree)\n",
        "                    model.fit(X_train, y_train)\n",
        "                    accuracy = accuracy_score(y_val, model.predict(X_val))\n",
        "                    if accuracy > best_score:\n",
        "                        best_score = accuracy \n",
        "                        kernel_best = kernel\n",
        "                        gamma_best = gamma\n",
        "                        C_best = C\n",
        "                        shrinking_best = shrinking\n",
        "                        best_degree=degree"
      ],
      "execution_count": null,
      "outputs": []
    },
    {
      "cell_type": "code",
      "metadata": {
        "id": "BMXK_JXkoGst"
      },
      "source": [
        "best_param['kernel'].append(kernel_best)\n",
        "best_param['gamma'].append(gamma_best)\n",
        "best_param['C'].append(C_best)\n",
        "best_param['shrinking'].append(shrinking_best)\n",
        "best_param['degree'].append(degree)"
      ],
      "execution_count": null,
      "outputs": []
    },
    {
      "cell_type": "code",
      "metadata": {
        "colab": {
          "base_uri": "https://localhost:8080/"
        },
        "id": "GPKRPICgpbzp",
        "outputId": "65835cf1-70b2-4f1b-e5cb-7fbcb40a0215"
      },
      "source": [
        "best_param"
      ],
      "execution_count": null,
      "outputs": [
        {
          "output_type": "execute_result",
          "data": {
            "text/plain": [
              "{'C': [1],\n",
              " 'degree': [6],\n",
              " 'gamma': ['scale'],\n",
              " 'kernel': ['rbf'],\n",
              " 'shrinking': [True]}"
            ]
          },
          "metadata": {},
          "execution_count": 158
        }
      ]
    },
    {
      "cell_type": "markdown",
      "metadata": {
        "id": "ga3at3kUqEWs"
      },
      "source": [
        "# Test"
      ]
    },
    {
      "cell_type": "code",
      "metadata": {
        "colab": {
          "base_uri": "https://localhost:8080/",
          "height": 414
        },
        "id": "ZazsxyWQrCsV",
        "outputId": "07532f94-01b0-49fb-f0ab-59b62e8f8922"
      },
      "source": [
        "df_train_val"
      ],
      "execution_count": null,
      "outputs": [
        {
          "output_type": "execute_result",
          "data": {
            "text/html": [
              "<div>\n",
              "<style scoped>\n",
              "    .dataframe tbody tr th:only-of-type {\n",
              "        vertical-align: middle;\n",
              "    }\n",
              "\n",
              "    .dataframe tbody tr th {\n",
              "        vertical-align: top;\n",
              "    }\n",
              "\n",
              "    .dataframe thead th {\n",
              "        text-align: right;\n",
              "    }\n",
              "</style>\n",
              "<table border=\"1\" class=\"dataframe\">\n",
              "  <thead>\n",
              "    <tr style=\"text-align: right;\">\n",
              "      <th></th>\n",
              "      <th>Age</th>\n",
              "      <th>EstimatedSalary</th>\n",
              "      <th>Purchased</th>\n",
              "    </tr>\n",
              "  </thead>\n",
              "  <tbody>\n",
              "    <tr>\n",
              "      <th>93</th>\n",
              "      <td>29</td>\n",
              "      <td>28000</td>\n",
              "      <td>0</td>\n",
              "    </tr>\n",
              "    <tr>\n",
              "      <th>23</th>\n",
              "      <td>45</td>\n",
              "      <td>22000</td>\n",
              "      <td>1</td>\n",
              "    </tr>\n",
              "    <tr>\n",
              "      <th>299</th>\n",
              "      <td>46</td>\n",
              "      <td>117000</td>\n",
              "      <td>1</td>\n",
              "    </tr>\n",
              "    <tr>\n",
              "      <th>13</th>\n",
              "      <td>32</td>\n",
              "      <td>18000</td>\n",
              "      <td>0</td>\n",
              "    </tr>\n",
              "    <tr>\n",
              "      <th>90</th>\n",
              "      <td>22</td>\n",
              "      <td>81000</td>\n",
              "      <td>0</td>\n",
              "    </tr>\n",
              "    <tr>\n",
              "      <th>...</th>\n",
              "      <td>...</td>\n",
              "      <td>...</td>\n",
              "      <td>...</td>\n",
              "    </tr>\n",
              "    <tr>\n",
              "      <th>255</th>\n",
              "      <td>52</td>\n",
              "      <td>90000</td>\n",
              "      <td>1</td>\n",
              "    </tr>\n",
              "    <tr>\n",
              "      <th>72</th>\n",
              "      <td>20</td>\n",
              "      <td>23000</td>\n",
              "      <td>0</td>\n",
              "    </tr>\n",
              "    <tr>\n",
              "      <th>396</th>\n",
              "      <td>51</td>\n",
              "      <td>23000</td>\n",
              "      <td>1</td>\n",
              "    </tr>\n",
              "    <tr>\n",
              "      <th>235</th>\n",
              "      <td>46</td>\n",
              "      <td>79000</td>\n",
              "      <td>1</td>\n",
              "    </tr>\n",
              "    <tr>\n",
              "      <th>37</th>\n",
              "      <td>30</td>\n",
              "      <td>49000</td>\n",
              "      <td>0</td>\n",
              "    </tr>\n",
              "  </tbody>\n",
              "</table>\n",
              "<p>320 rows × 3 columns</p>\n",
              "</div>"
            ],
            "text/plain": [
              "     Age  EstimatedSalary  Purchased\n",
              "93    29            28000          0\n",
              "23    45            22000          1\n",
              "299   46           117000          1\n",
              "13    32            18000          0\n",
              "90    22            81000          0\n",
              "..   ...              ...        ...\n",
              "255   52            90000          1\n",
              "72    20            23000          0\n",
              "396   51            23000          1\n",
              "235   46            79000          1\n",
              "37    30            49000          0\n",
              "\n",
              "[320 rows x 3 columns]"
            ]
          },
          "metadata": {},
          "execution_count": 159
        }
      ]
    },
    {
      "cell_type": "code",
      "metadata": {
        "id": "RDVPdmelq4-W"
      },
      "source": [
        "X_train_val = df_train_val.drop(columns=['Purchased'])\n",
        "y_train_val = df_train_val['Purchased']"
      ],
      "execution_count": null,
      "outputs": []
    },
    {
      "cell_type": "code",
      "metadata": {
        "colab": {
          "base_uri": "https://localhost:8080/"
        },
        "id": "rcYIZI9wq9lW",
        "outputId": "8a3069f5-2b88-435c-cedf-c50a711bd483"
      },
      "source": [
        "X_train_val = StandardScaler().fit_transform(X_train_val)\n",
        "X_train_val"
      ],
      "execution_count": null,
      "outputs": [
        {
          "output_type": "execute_result",
          "data": {
            "text/plain": [
              "array([[-0.80330081, -1.19121795],\n",
              "       [ 0.75697997, -1.36859801],\n",
              "       [ 0.85449752,  1.43991958],\n",
              "       [-0.51074816, -1.48685138],\n",
              "       [-1.48592365,  0.37563923],\n",
              "       [-1.19337101,  0.55301929],\n",
              "       [ 1.04953262, -1.04340124],\n",
              "       [-0.21819552, -0.30431766],\n",
              "       [ 0.95201507, -1.33903467],\n",
              "       [-1.09585346, -1.07296458],\n",
              "       [-0.51074816,  1.97205975],\n",
              "       [ 2.21974321, -1.0138379 ],\n",
              "       [ 1.43960282, -1.39816136],\n",
              "       [ 0.07435713, -0.39300769],\n",
              "       [-1.19337101,  0.64170932],\n",
              "       [ 2.02470811, -0.89558452],\n",
              "       [ 1.14705017,  0.58258263],\n",
              "       [-0.02316042,  0.2869492 ],\n",
              "       [-0.21819552,  0.25738586],\n",
              "       [-0.31571307, -0.74776781],\n",
              "       [-1.68095875, -0.57038775],\n",
              "       [ 0.85449752,  0.58258263],\n",
              "       [-0.60826571, -1.0138379 ],\n",
              "       [ 0.95201507, -1.13209127],\n",
              "       [-0.21819552, -0.54082441],\n",
              "       [ 0.17187468,  0.81908937],\n",
              "       [-0.41323061,  1.32166621],\n",
              "       [ 1.14705017,  0.52345594],\n",
              "       [ 0.75697997,  0.31651254],\n",
              "       [ 0.65946243, -0.86602118],\n",
              "       [ 0.36690978, -0.27475432],\n",
              "       [ 0.46442733, -0.45213438],\n",
              "       [-0.21819552,  0.13913248],\n",
              "       [ 0.36690978,  0.10956914],\n",
              "       [-0.99833591,  0.81908937],\n",
              "       [-0.70578326,  1.41035623],\n",
              "       [ 0.36690978, -0.48169772],\n",
              "       [ 0.36690978, -0.48169772],\n",
              "       [-1.68095875,  0.40520257],\n",
              "       [ 0.85449752, -0.80689449],\n",
              "       [-0.99833591, -1.10252793],\n",
              "       [-0.21819552,  0.0800058 ],\n",
              "       [ 1.14705017, -1.19121795],\n",
              "       [-0.21819552,  0.67127266],\n",
              "       [-0.02316042,  0.19825917],\n",
              "       [-0.51074816,  1.43991958],\n",
              "       [-0.12067797,  0.19825917],\n",
              "       [-1.68095875,  0.52345594],\n",
              "       [ 0.07435713, -0.54082441],\n",
              "       [ 1.14705017, -0.95471121],\n",
              "       [ 0.26939223, -0.09737426],\n",
              "       [-0.02316042,  0.25738586],\n",
              "       [ 2.21974321, -0.65907778],\n",
              "       [ 1.04953262,  2.06074978],\n",
              "       [ 0.26939223,  0.0800058 ],\n",
              "       [-0.12067797, -0.15650095],\n",
              "       [-1.09585346,  0.37563923],\n",
              "       [-0.41323061, -1.10252793],\n",
              "       [ 0.36690978, -0.51126106],\n",
              "       [ 0.85449752,  0.16869583],\n",
              "       [-1.87599385,  0.40520257],\n",
              "       [-0.02316042, -1.04340124],\n",
              "       [-0.21819552, -0.45213438],\n",
              "       [-0.90081836, -0.27475432],\n",
              "       [-0.02316042,  0.0800058 ],\n",
              "       [-1.87599385, -0.71820447],\n",
              "       [ 0.07435713, -0.21562763],\n",
              "       [-0.21819552, -0.09737426],\n",
              "       [-0.60826571, -0.06781092],\n",
              "       [ 0.95201507, -1.27990798],\n",
              "       [ 0.46442733,  1.05559612],\n",
              "       [-1.7784763 , -1.45728804],\n",
              "       [-1.5834412 ,  0.10956914],\n",
              "       [-0.90081836, -1.07296458],\n",
              "       [ 1.43960282,  2.4155099 ],\n",
              "       [ 1.53712037,  1.05559612],\n",
              "       [-1.19337101,  0.34607588],\n",
              "       [-1.09585346,  0.10956914],\n",
              "       [-1.09585346, -1.57554141],\n",
              "       [ 0.26939223,  2.17900315],\n",
              "       [-0.21819552, -0.89558452],\n",
              "       [ 1.92719056,  1.58773629],\n",
              "       [ 0.36690978,  0.55301929],\n",
              "       [-1.29088856,  0.61214597],\n",
              "       [-0.02316042, -0.48169772],\n",
              "       [-0.21819552,  1.17384949],\n",
              "       [-0.51074816,  0.93734275],\n",
              "       [-0.21819552,  2.32681987],\n",
              "       [-1.7784763 , -1.25034464],\n",
              "       [ 0.85449752,  0.40520257],\n",
              "       [ 0.95201507,  1.08515946],\n",
              "       [ 0.75697997, -0.68864112],\n",
              "       [ 0.07435713, -0.51126106],\n",
              "       [-0.02316042,  0.73039934],\n",
              "       [-0.80330081, -0.74776781],\n",
              "       [ 0.36690978, -1.13209127],\n",
              "       [ 0.26939223, -0.24519098],\n",
              "       [-0.99833591,  0.58258263],\n",
              "       [-0.99833591,  0.64170932],\n",
              "       [ 0.17187468,  0.0800058 ],\n",
              "       [-1.3884061 , -1.19121795],\n",
              "       [ 1.34208527,  2.29725653],\n",
              "       [-1.3884061 , -0.15650095],\n",
              "       [-0.02316042,  0.34607588],\n",
              "       [ 0.26939223, -0.62951444],\n",
              "       [ 1.04953262, -1.16165461],\n",
              "       [-0.21819552, -0.27475432],\n",
              "       [-1.09585346, -1.13209127],\n",
              "       [ 0.17187468,  1.1147228 ],\n",
              "       [-0.90081836,  0.46432926],\n",
              "       [ 2.12222566,  0.22782251],\n",
              "       [ 0.26939223, -0.33388101],\n",
              "       [-0.21819552,  0.84865272],\n",
              "       [-1.09585346,  0.52345594],\n",
              "       [ 0.36690978, -0.15650095],\n",
              "       [-0.80330081, -0.62951444],\n",
              "       [-1.09585346, -1.51641473],\n",
              "       [ 2.02470811, -1.33903467],\n",
              "       [-0.70578326, -0.18606429],\n",
              "       [-1.19337101, -1.04340124],\n",
              "       [ 2.12222566, -1.16165461],\n",
              "       [-0.90081836, -0.92514787],\n",
              "       [ 0.17187468,  0.25738586],\n",
              "       [ 0.95201507,  1.14428615],\n",
              "       [ 1.43960282,  2.06074978],\n",
              "       [-0.80330081, -0.74776781],\n",
              "       [-0.99833591,  2.03118644],\n",
              "       [-1.29088856, -0.39300769],\n",
              "       [ 0.26939223,  0.10956914],\n",
              "       [-1.5834412 , -1.54597807],\n",
              "       [ 1.92719056, -1.25034464],\n",
              "       [-0.70578326,  1.97205975],\n",
              "       [ 1.04953262,  1.49904626],\n",
              "       [ 0.26939223, -0.33388101],\n",
              "       [-0.21819552,  0.19825917],\n",
              "       [-0.90081836, -0.71820447],\n",
              "       [-0.02316042,  0.16869583],\n",
              "       [-0.21819552, -1.2207813 ],\n",
              "       [-0.02316042,  0.31651254],\n",
              "       [-0.51074816,  1.52860961],\n",
              "       [-0.80330081,  0.19825917],\n",
              "       [-0.70578326, -1.51641473],\n",
              "       [-1.19337101,  0.31651254],\n",
              "       [ 0.26939223,  1.14428615],\n",
              "       [-1.29088856, -1.45728804],\n",
              "       [ 0.36690978,  0.10956914],\n",
              "       [ 0.07435713, -0.21562763],\n",
              "       [-0.12067797,  2.23812984],\n",
              "       [ 0.46442733, -0.1269376 ],\n",
              "       [ 1.04953262, -1.04340124],\n",
              "       [ 1.04953262, -1.13209127],\n",
              "       [-1.3884061 , -1.4277247 ],\n",
              "       [ 1.73215547,  1.82424304],\n",
              "       [-0.80330081,  2.35638321],\n",
              "       [ 0.46442733, -0.09737426],\n",
              "       [-0.99833591, -0.42257103],\n",
              "       [-0.02316042, -0.39300769],\n",
              "       [-1.19337101, -1.36859801],\n",
              "       [ 2.12222566,  2.2085665 ],\n",
              "       [ 0.46442733, -0.42257103],\n",
              "       [-0.99833591, -1.51641473],\n",
              "       [ 0.95201507, -0.57038775],\n",
              "       [-0.90081836, -0.27475432],\n",
              "       [-0.41323061,  0.02087911],\n",
              "       [-0.60826571, -0.00868423],\n",
              "       [-0.21819552, -1.33903467],\n",
              "       [-0.21819552, -1.36859801],\n",
              "       [ 1.92719056, -1.04340124],\n",
              "       [-0.70578326,  1.14428615],\n",
              "       [ 0.85449752, -1.33903467],\n",
              "       [ 0.36690978, -0.24519098],\n",
              "       [-0.41323061, -0.80689449],\n",
              "       [-0.41323061, -0.24519098],\n",
              "       [ 0.95201507, -0.62951444],\n",
              "       [-0.90081836, -0.39300769],\n",
              "       [ 0.75697997, -1.07296458],\n",
              "       [-0.21819552,  0.19825917],\n",
              "       [ 2.12222566, -0.77733115],\n",
              "       [ 0.95201507, -0.54082441],\n",
              "       [ 0.95201507, -0.51126106],\n",
              "       [-0.21819552,  0.31651254],\n",
              "       [ 0.17187468, -0.77733115],\n",
              "       [ 0.26939223,  0.2869492 ],\n",
              "       [-1.3884061 , -0.59995109],\n",
              "       [ 0.17187468,  0.19825917],\n",
              "       [-0.21819552, -0.33388101],\n",
              "       [ 1.73215547, -0.86602118],\n",
              "       [-0.60826571,  0.0800058 ],\n",
              "       [-0.90081836,  1.61729964],\n",
              "       [ 0.46442733,  0.34607588],\n",
              "       [ 0.26939223, -0.27475432],\n",
              "       [ 1.04953262,  0.16869583],\n",
              "       [-1.5834412 ,  0.58258263],\n",
              "       [ 1.53712037,  0.10956914],\n",
              "       [-0.99833591, -0.30431766],\n",
              "       [-0.21819552, -0.62951444],\n",
              "       [-0.90081836,  0.61214597],\n",
              "       [-1.09585346,  0.34607588],\n",
              "       [-0.51074816,  1.43991958],\n",
              "       [ 0.46442733,  0.19825917],\n",
              "       [-0.41323061,  2.38594656],\n",
              "       [ 0.36690978,  0.34607588],\n",
              "       [-0.60826571, -0.30431766],\n",
              "       [ 0.17187468,  1.94249641],\n",
              "       [-0.99833591, -1.4277247 ],\n",
              "       [-0.80330081,  0.43476591],\n",
              "       [-1.7784763 ,  0.05044245],\n",
              "       [-1.7784763 ,  0.4938926 ],\n",
              "       [-0.80330081, -0.21562763],\n",
              "       [ 0.17187468,  1.94249641],\n",
              "       [-0.60826571,  0.22782251],\n",
              "       [ 0.36690978,  0.10956914],\n",
              "       [-1.09585346,  0.34607588],\n",
              "       [ 0.26939223, -0.21562763],\n",
              "       [-0.21819552, -1.27990798],\n",
              "       [ 1.04953262,  0.81908937],\n",
              "       [ 0.46442733,  2.38594656],\n",
              "       [-0.90081836,  0.31651254],\n",
              "       [ 1.34208527,  1.94249641],\n",
              "       [-0.41323061, -1.19121795],\n",
              "       [ 0.46442733, -0.42257103],\n",
              "       [ 0.75697997, -1.36859801],\n",
              "       [-0.02316042, -0.33388101],\n",
              "       [-0.31571307,  1.29210286],\n",
              "       [-0.21819552, -0.86602118],\n",
              "       [-1.48592365, -1.2207813 ],\n",
              "       [-0.21819552,  0.10956914],\n",
              "       [ 0.17187468, -0.27475432],\n",
              "       [-1.68095875,  0.16869583],\n",
              "       [ 0.85449752, -1.07296458],\n",
              "       [-1.09585346, -0.74776781],\n",
              "       [-0.80330081,  0.43476591],\n",
              "       [ 1.73215547,  1.67642632],\n",
              "       [-0.02316042,  2.29725653],\n",
              "       [ 0.75697997,  1.85380638],\n",
              "       [-0.41323061, -0.74776781],\n",
              "       [ 0.36690978, -0.68864112],\n",
              "       [ 0.46442733,  0.31651254],\n",
              "       [-0.02316042,  2.03118644],\n",
              "       [-1.29088856,  0.46432926],\n",
              "       [-0.51074816, -1.48685138],\n",
              "       [ 1.82967301,  1.05559612],\n",
              "       [ 1.14705017, -0.86602118],\n",
              "       [-0.90081836,  0.4938926 ],\n",
              "       [ 1.53712037,  2.2085665 ],\n",
              "       [-0.70578326,  0.61214597],\n",
              "       [ 1.92719056, -0.24519098],\n",
              "       [ 0.26939223,  0.19825917],\n",
              "       [ 0.36690978,  0.31651254],\n",
              "       [-1.68095875,  0.40520257],\n",
              "       [-1.48592365, -0.39300769],\n",
              "       [-0.21819552,  0.58258263],\n",
              "       [ 1.63463792,  0.05044245],\n",
              "       [-0.60826571, -1.57554141],\n",
              "       [ 1.24456772, -0.95471121],\n",
              "       [ 0.46442733, -0.09737426],\n",
              "       [-0.31571307, -0.74776781],\n",
              "       [ 0.46442733,  1.17384949],\n",
              "       [ 1.63463792, -1.25034464],\n",
              "       [-1.7784763 , -1.39816136],\n",
              "       [-0.12067797, -0.54082441],\n",
              "       [-0.02316042,  0.05044245],\n",
              "       [-0.12067797,  1.70598967],\n",
              "       [ 0.95201507, -1.4277247 ],\n",
              "       [-0.70578326,  0.31651254],\n",
              "       [ 2.12222566,  0.43476591],\n",
              "       [-0.80330081,  0.34607588],\n",
              "       [ 0.56194488,  1.29210286],\n",
              "       [ 0.07435713,  0.34607588],\n",
              "       [ 2.02470811,  2.23812984],\n",
              "       [-0.12067797,  1.67642632],\n",
              "       [ 1.14705017, -1.19121795],\n",
              "       [-1.87599385, -0.48169772],\n",
              "       [-0.70578326, -1.57554141],\n",
              "       [ 2.12222566,  0.58258263],\n",
              "       [-0.99833591, -0.33388101],\n",
              "       [ 0.07435713,  0.0800058 ],\n",
              "       [-0.60826571,  0.61214597],\n",
              "       [ 0.95201507, -1.0138379 ],\n",
              "       [-0.60826571,  0.16869583],\n",
              "       [-0.02316042,  0.10956914],\n",
              "       [ 0.26939223, -0.33388101],\n",
              "       [ 2.12222566,  1.82424304],\n",
              "       [ 1.14705017, -0.09737426],\n",
              "       [ 1.04953262,  0.64170932],\n",
              "       [ 0.85449752, -1.36859801],\n",
              "       [ 1.63463792,  1.05559612],\n",
              "       [-0.21819552, -1.4277247 ],\n",
              "       [ 1.14705017,  2.14943981],\n",
              "       [ 1.04953262, -0.80689449],\n",
              "       [-0.21819552, -0.39300769],\n",
              "       [-0.12067797, -0.24519098],\n",
              "       [-0.51074816,  2.4155099 ],\n",
              "       [-1.87599385, -0.00868423],\n",
              "       [-1.29088856, -0.39300769],\n",
              "       [ 0.46442733,  0.64170932],\n",
              "       [ 0.07435713, -0.27475432],\n",
              "       [ 2.21974321,  1.17384949],\n",
              "       [-1.48592365, -0.15650095],\n",
              "       [-1.29088856, -1.07296458],\n",
              "       [ 0.85449752, -0.27475432],\n",
              "       [ 1.04953262,  1.94249641],\n",
              "       [ 0.36690978,  0.10956914],\n",
              "       [ 1.24456772, -0.71820447],\n",
              "       [ 0.07435713,  0.0800058 ],\n",
              "       [-1.29088856, -1.33903467],\n",
              "       [-0.21819552, -0.21562763],\n",
              "       [-0.02316042,  0.34607588],\n",
              "       [-1.29088856, -1.2207813 ],\n",
              "       [-1.09585346,  0.46432926],\n",
              "       [-0.31571307, -1.27990798],\n",
              "       [-0.12067797, -0.42257103],\n",
              "       [-1.5834412 , -0.00868423],\n",
              "       [ 0.36690978,  0.0800058 ],\n",
              "       [ 2.21974321, -0.77733115],\n",
              "       [ 1.43960282,  0.64170932],\n",
              "       [-1.68095875, -1.33903467],\n",
              "       [ 1.34208527, -1.33903467],\n",
              "       [ 0.85449752,  0.31651254],\n",
              "       [-0.70578326, -0.57038775]])"
            ]
          },
          "metadata": {},
          "execution_count": 161
        }
      ]
    },
    {
      "cell_type": "code",
      "metadata": {
        "id": "0U0tM2h2qCzZ"
      },
      "source": [
        "model = SVC(kernel=best_param['kernel'][0], \n",
        "            gamma=best_param['gamma'][0], \n",
        "            C=best_param['C'][0], \n",
        "            shrinking=best_param['shrinking'][0],\n",
        "            degree=best_param['degree'][0])\n",
        "\n",
        "model.fit(X_train_val, y_train_val)\n",
        "accuracy = accuracy_score(y_test, model.predict(X_test))"
      ],
      "execution_count": null,
      "outputs": []
    },
    {
      "cell_type": "code",
      "metadata": {
        "colab": {
          "base_uri": "https://localhost:8080/"
        },
        "id": "TlTKkiofrg1f",
        "outputId": "7b20433a-c055-41d5-ffea-4d14136230d2"
      },
      "source": [
        "print(f'Accuracy: {accuracy}')"
      ],
      "execution_count": null,
      "outputs": [
        {
          "output_type": "stream",
          "name": "stdout",
          "text": [
            "Accuracy: 0.8625\n"
          ]
        }
      ]
    },
    {
      "cell_type": "code",
      "metadata": {
        "colab": {
          "base_uri": "https://localhost:8080/",
          "height": 264
        },
        "id": "CqpxCSEertvr",
        "outputId": "3b411917-bf3f-4e96-9e12-d01a6acf54e1"
      },
      "source": [
        "plt.scatter(X_test[:, 0], X_test[:, 1], c=y_test, s=30, cmap=plt.cm.Paired)\n",
        "\n",
        "# plot the decision function\n",
        "ax = plt.gca()\n",
        "xlim = ax.get_xlim()\n",
        "ylim = ax.get_ylim()\n",
        "\n",
        "# create grid to evaluate model\n",
        "xx = np.linspace(xlim[0], xlim[1], 30)\n",
        "yy = np.linspace(ylim[0], ylim[1], 30)\n",
        "YY, XX = np.meshgrid(yy, xx)\n",
        "xy = np.vstack([XX.ravel(), YY.ravel()]).T\n",
        "Z = model.decision_function(xy).reshape(XX.shape)\n",
        "\n",
        "# plot decision boundary and margins\n",
        "ax.contour(\n",
        "    XX, YY, Z, colors=\"k\", levels=[-1, 0, 1], alpha=0.5, linestyles=[\"--\", \"-\", \"--\"]\n",
        ")\n",
        "# plot support vectors\n",
        "ax.scatter(\n",
        "    model.support_vectors_[:, 0],\n",
        "    model.support_vectors_[:, 1],\n",
        "    s=100,\n",
        "    linewidth=1,\n",
        "    facecolors=\"none\",\n",
        "    edgecolors=\"k\",\n",
        ")\n",
        "plt.show()"
      ],
      "execution_count": null,
      "outputs": [
        {
          "output_type": "display_data",
          "data": {
            "image/png": "[encoded data removed]",
            "text/plain": [
              "<Figure size 432x288 with 1 Axes>"
            ]
          },
          "metadata": {
            "needs_background": "light"
          }
        }
      ]
    },
    {
      "cell_type": "markdown",
      "metadata": {
        "id": "K2oT2HnA9Hxj"
      },
      "source": [
        "# K-fold"
      ]
    },
    {
      "cell_type": "code",
      "metadata": {
        "colab": {
          "base_uri": "https://localhost:8080/"
        },
        "id": "jJbfdGgH7OVg",
        "outputId": "44568db9-5643-48cf-ca49-16c5b0612005"
      },
      "source": [
        "gd_sr = GridSearchCV(estimator=SVC(),\n",
        "                     param_grid=param,\n",
        "                     scoring='accuracy',\n",
        "                     cv=5,\n",
        "                     n_jobs=-1,\n",
        "                     verbose=4)\n",
        "gd_sr.fit(X_train_val, y_train_val)"
      ],
      "execution_count": null,
      "outputs": [
        {
          "output_type": "stream",
          "name": "stdout",
          "text": [
            "Fitting 5 folds for each of 560 candidates, totalling 2800 fits\n"
          ]
        },
        {
          "output_type": "execute_result",
          "data": {
            "text/plain": [
              "GridSearchCV(cv=5, estimator=SVC(), n_jobs=-1,\n",
              "             param_grid={'C': [0.1, 1, 10, 100, 1000],\n",
              "                         'degree': [0, 1, 2, 3, 4, 5, 6],\n",
              "                         'gamma': ['scale', 'auto'],\n",
              "                         'kernel': ['linear', 'poly', 'rbf', 'sigmoid'],\n",
              "                         'shrinking': [True, False]},\n",
              "             scoring='accuracy', verbose=4)"
            ]
          },
          "metadata": {},
          "execution_count": 165
        }
      ]
    },
    {
      "cell_type": "code",
      "metadata": {
        "colab": {
          "base_uri": "https://localhost:8080/"
        },
        "id": "bkBt99699MII",
        "outputId": "8fd92901-f129-4daa-9cbb-ca2488144196"
      },
      "source": [
        "best_parameters = gd_sr.best_params_\n",
        "best_parameters"
      ],
      "execution_count": null,
      "outputs": [
        {
          "output_type": "execute_result",
          "data": {
            "text/plain": [
              "{'C': 1, 'degree': 0, 'gamma': 'scale', 'kernel': 'rbf', 'shrinking': True}"
            ]
          },
          "metadata": {},
          "execution_count": 166
        }
      ]
    },
    {
      "cell_type": "code",
      "metadata": {
        "colab": {
          "base_uri": "https://localhost:8080/"
        },
        "id": "ffISrbX79Vos",
        "outputId": "700f6b85-d4b0-45ca-9371-55ed98d5311e"
      },
      "source": [
        "best_result = gd_sr.best_score_\n",
        "best_result"
      ],
      "execution_count": null,
      "outputs": [
        {
          "output_type": "execute_result",
          "data": {
            "text/plain": [
              "0.921875"
            ]
          },
          "metadata": {},
          "execution_count": 167
        }
      ]
    },
    {
      "cell_type": "code",
      "metadata": {
        "id": "9PlXiG9q9Zn0"
      },
      "source": [
        "cv_svm = KFold(n_splits=5, random_state=1, shuffle=True)\n",
        "model_cv_svm = SVC(random_state=1, \n",
        "                   degree=best_parameters['degree'],\n",
        "                   C=best_parameters['C'], \n",
        "                   gamma=best_parameters['gamma'], \n",
        "                   kernel=best_parameters['kernel'],\n",
        "                   shrinking=best_parameters['shrinking']\n",
        "                   )"
      ],
      "execution_count": null,
      "outputs": []
    },
    {
      "cell_type": "code",
      "metadata": {
        "colab": {
          "base_uri": "https://localhost:8080/"
        },
        "id": "dnIGMxoy-YO5",
        "outputId": "5058675b-7918-43d5-c36a-d6511a1d9067"
      },
      "source": [
        "test_acc_cv = cross_val_score(model_cv_svm, X_test, y_test, scoring='accuracy', cv=cv_svm, n_jobs=-1)\n",
        "test_acc_cv"
      ],
      "execution_count": null,
      "outputs": [
        {
          "output_type": "execute_result",
          "data": {
            "text/plain": [
              "array([0.875 , 0.9375, 0.75  , 0.75  , 0.875 ])"
            ]
          },
          "metadata": {},
          "execution_count": 175
        }
      ]
    },
    {
      "cell_type": "code",
      "metadata": {
        "colab": {
          "base_uri": "https://localhost:8080/"
        },
        "id": "oKl3dXHk-0_2",
        "outputId": "934d9e9a-6ea8-4ad1-ed59-c0dc2ac85619"
      },
      "source": [
        "print(f'Accuracy: {(np.mean(test_acc_cv))}\\nStandard deviation: {np.std(test_acc_cv)}')"
      ],
      "execution_count": null,
      "outputs": [
        {
          "output_type": "stream",
          "name": "stdout",
          "text": [
            "Accuracy: 0.8375\n",
            "Standard deviation: 0.075\n"
          ]
        }
      ]
    }
  ]
}