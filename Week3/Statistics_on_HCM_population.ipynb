{
  "nbformat": 4,
  "nbformat_minor": 0,
  "metadata": {
    "colab": {
      "name": "CS116 - Week 3 - Statistics on HCM population",
      "provenance": []
    },
    "kernelspec": {
      "name": "python3",
      "display_name": "Python 3"
    },
    "language_info": {
      "name": "python"
    }
  },
  "cells": [
    {
      "cell_type": "code",
      "metadata": {
        "colab": {
          "base_uri": "https://localhost:8080/"
        },
        "id": "85Xh4CkwANzk",
        "outputId": "00262b26-102a-42f2-c89a-a797092d9409"
      },
      "source": [
        "!pip install geopandas"
      ],
      "execution_count": 1,
      "outputs": [
        {
          "output_type": "stream",
          "name": "stdout",
          "text": [
            "Collecting geopandas\n",
            "  Downloading geopandas-0.9.0-py2.py3-none-any.whl (994 kB)\n",
            "\u001b[?25l\r\u001b[K     |▎                               | 10 kB 22.0 MB/s eta 0:00:01\r\u001b[K     |▋                               | 20 kB 13.9 MB/s eta 0:00:01\r\u001b[K     |█                               | 30 kB 9.8 MB/s eta 0:00:01\r\u001b[K     |█▎                              | 40 kB 8.7 MB/s eta 0:00:01\r\u001b[K     |█▋                              | 51 kB 5.2 MB/s eta 0:00:01\r\u001b[K     |██                              | 61 kB 4.4 MB/s eta 0:00:01\r\u001b[K     |██▎                             | 71 kB 4.9 MB/s eta 0:00:01\r\u001b[K     |██▋                             | 81 kB 5.5 MB/s eta 0:00:01\r\u001b[K     |███                             | 92 kB 4.8 MB/s eta 0:00:01\r\u001b[K     |███▎                            | 102 kB 5.0 MB/s eta 0:00:01\r\u001b[K     |███▋                            | 112 kB 5.0 MB/s eta 0:00:01\r\u001b[K     |████                            | 122 kB 5.0 MB/s eta 0:00:01\r\u001b[K     |████▎                           | 133 kB 5.0 MB/s eta 0:00:01\r\u001b[K     |████▋                           | 143 kB 5.0 MB/s eta 0:00:01\r\u001b[K     |█████                           | 153 kB 5.0 MB/s eta 0:00:01\r\u001b[K     |█████▎                          | 163 kB 5.0 MB/s eta 0:00:01\r\u001b[K     |█████▋                          | 174 kB 5.0 MB/s eta 0:00:01\r\u001b[K     |██████                          | 184 kB 5.0 MB/s eta 0:00:01\r\u001b[K     |██████▎                         | 194 kB 5.0 MB/s eta 0:00:01\r\u001b[K     |██████▋                         | 204 kB 5.0 MB/s eta 0:00:01\r\u001b[K     |███████                         | 215 kB 5.0 MB/s eta 0:00:01\r\u001b[K     |███████▎                        | 225 kB 5.0 MB/s eta 0:00:01\r\u001b[K     |███████▋                        | 235 kB 5.0 MB/s eta 0:00:01\r\u001b[K     |████████                        | 245 kB 5.0 MB/s eta 0:00:01\r\u001b[K     |████████▎                       | 256 kB 5.0 MB/s eta 0:00:01\r\u001b[K     |████████▋                       | 266 kB 5.0 MB/s eta 0:00:01\r\u001b[K     |█████████                       | 276 kB 5.0 MB/s eta 0:00:01\r\u001b[K     |█████████▎                      | 286 kB 5.0 MB/s eta 0:00:01\r\u001b[K     |█████████▌                      | 296 kB 5.0 MB/s eta 0:00:01\r\u001b[K     |█████████▉                      | 307 kB 5.0 MB/s eta 0:00:01\r\u001b[K     |██████████▏                     | 317 kB 5.0 MB/s eta 0:00:01\r\u001b[K     |██████████▌                     | 327 kB 5.0 MB/s eta 0:00:01\r\u001b[K     |██████████▉                     | 337 kB 5.0 MB/s eta 0:00:01\r\u001b[K     |███████████▏                    | 348 kB 5.0 MB/s eta 0:00:01\r\u001b[K     |███████████▌                    | 358 kB 5.0 MB/s eta 0:00:01\r\u001b[K     |███████████▉                    | 368 kB 5.0 MB/s eta 0:00:01\r\u001b[K     |████████████▏                   | 378 kB 5.0 MB/s eta 0:00:01\r\u001b[K     |████████████▌                   | 389 kB 5.0 MB/s eta 0:00:01\r\u001b[K     |████████████▉                   | 399 kB 5.0 MB/s eta 0:00:01\r\u001b[K     |█████████████▏                  | 409 kB 5.0 MB/s eta 0:00:01\r\u001b[K     |█████████████▌                  | 419 kB 5.0 MB/s eta 0:00:01\r\u001b[K     |█████████████▉                  | 430 kB 5.0 MB/s eta 0:00:01\r\u001b[K     |██████████████▏                 | 440 kB 5.0 MB/s eta 0:00:01\r\u001b[K     |██████████████▌                 | 450 kB 5.0 MB/s eta 0:00:01\r\u001b[K     |██████████████▉                 | 460 kB 5.0 MB/s eta 0:00:01\r\u001b[K     |███████████████▏                | 471 kB 5.0 MB/s eta 0:00:01\r\u001b[K     |███████████████▌                | 481 kB 5.0 MB/s eta 0:00:01\r\u001b[K     |███████████████▉                | 491 kB 5.0 MB/s eta 0:00:01\r\u001b[K     |████████████████▏               | 501 kB 5.0 MB/s eta 0:00:01\r\u001b[K     |████████████████▌               | 512 kB 5.0 MB/s eta 0:00:01\r\u001b[K     |████████████████▉               | 522 kB 5.0 MB/s eta 0:00:01\r\u001b[K     |█████████████████▏              | 532 kB 5.0 MB/s eta 0:00:01\r\u001b[K     |█████████████████▌              | 542 kB 5.0 MB/s eta 0:00:01\r\u001b[K     |█████████████████▉              | 552 kB 5.0 MB/s eta 0:00:01\r\u001b[K     |██████████████████▏             | 563 kB 5.0 MB/s eta 0:00:01\r\u001b[K     |██████████████████▌             | 573 kB 5.0 MB/s eta 0:00:01\r\u001b[K     |██████████████████▊             | 583 kB 5.0 MB/s eta 0:00:01\r\u001b[K     |███████████████████             | 593 kB 5.0 MB/s eta 0:00:01\r\u001b[K     |███████████████████▍            | 604 kB 5.0 MB/s eta 0:00:01\r\u001b[K     |███████████████████▊            | 614 kB 5.0 MB/s eta 0:00:01\r\u001b[K     |████████████████████            | 624 kB 5.0 MB/s eta 0:00:01\r\u001b[K     |████████████████████▍           | 634 kB 5.0 MB/s eta 0:00:01\r\u001b[K     |████████████████████▊           | 645 kB 5.0 MB/s eta 0:00:01\r\u001b[K     |█████████████████████           | 655 kB 5.0 MB/s eta 0:00:01\r\u001b[K     |█████████████████████▍          | 665 kB 5.0 MB/s eta 0:00:01\r\u001b[K     |█████████████████████▊          | 675 kB 5.0 MB/s eta 0:00:01\r\u001b[K     |██████████████████████          | 686 kB 5.0 MB/s eta 0:00:01\r\u001b[K     |██████████████████████▍         | 696 kB 5.0 MB/s eta 0:00:01\r\u001b[K     |██████████████████████▊         | 706 kB 5.0 MB/s eta 0:00:01\r\u001b[K     |███████████████████████         | 716 kB 5.0 MB/s eta 0:00:01\r\u001b[K     |███████████████████████▍        | 727 kB 5.0 MB/s eta 0:00:01\r\u001b[K     |███████████████████████▊        | 737 kB 5.0 MB/s eta 0:00:01\r\u001b[K     |████████████████████████        | 747 kB 5.0 MB/s eta 0:00:01\r\u001b[K     |████████████████████████▍       | 757 kB 5.0 MB/s eta 0:00:01\r\u001b[K     |████████████████████████▊       | 768 kB 5.0 MB/s eta 0:00:01\r\u001b[K     |█████████████████████████       | 778 kB 5.0 MB/s eta 0:00:01\r\u001b[K     |█████████████████████████▍      | 788 kB 5.0 MB/s eta 0:00:01\r\u001b[K     |█████████████████████████▊      | 798 kB 5.0 MB/s eta 0:00:01\r\u001b[K     |██████████████████████████      | 808 kB 5.0 MB/s eta 0:00:01\r\u001b[K     |██████████████████████████▍     | 819 kB 5.0 MB/s eta 0:00:01\r\u001b[K     |██████████████████████████▊     | 829 kB 5.0 MB/s eta 0:00:01\r\u001b[K     |███████████████████████████     | 839 kB 5.0 MB/s eta 0:00:01\r\u001b[K     |███████████████████████████▍    | 849 kB 5.0 MB/s eta 0:00:01\r\u001b[K     |███████████████████████████▊    | 860 kB 5.0 MB/s eta 0:00:01\r\u001b[K     |████████████████████████████    | 870 kB 5.0 MB/s eta 0:00:01\r\u001b[K     |████████████████████████████▎   | 880 kB 5.0 MB/s eta 0:00:01\r\u001b[K     |████████████████████████████▋   | 890 kB 5.0 MB/s eta 0:00:01\r\u001b[K     |█████████████████████████████   | 901 kB 5.0 MB/s eta 0:00:01\r\u001b[K     |█████████████████████████████▎  | 911 kB 5.0 MB/s eta 0:00:01\r\u001b[K     |█████████████████████████████▋  | 921 kB 5.0 MB/s eta 0:00:01\r\u001b[K     |██████████████████████████████  | 931 kB 5.0 MB/s eta 0:00:01\r\u001b[K     |██████████████████████████████▎ | 942 kB 5.0 MB/s eta 0:00:01\r\u001b[K     |██████████████████████████████▋ | 952 kB 5.0 MB/s eta 0:00:01\r\u001b[K     |███████████████████████████████ | 962 kB 5.0 MB/s eta 0:00:01\r\u001b[K     |███████████████████████████████▎| 972 kB 5.0 MB/s eta 0:00:01\r\u001b[K     |███████████████████████████████▋| 983 kB 5.0 MB/s eta 0:00:01\r\u001b[K     |████████████████████████████████| 993 kB 5.0 MB/s eta 0:00:01\r\u001b[K     |████████████████████████████████| 994 kB 5.0 MB/s \n",
            "\u001b[?25hRequirement already satisfied: pandas>=0.24.0 in /usr/local/lib/python3.7/dist-packages (from geopandas) (1.1.5)\n",
            "Collecting fiona>=1.8\n",
            "  Downloading Fiona-1.8.20-cp37-cp37m-manylinux1_x86_64.whl (15.4 MB)\n",
            "\u001b[K     |████████████████████████████████| 15.4 MB 34 kB/s \n",
            "\u001b[?25hRequirement already satisfied: shapely>=1.6 in /usr/local/lib/python3.7/dist-packages (from geopandas) (1.7.1)\n",
            "Collecting pyproj>=2.2.0\n",
            "  Downloading pyproj-3.2.1-cp37-cp37m-manylinux2010_x86_64.whl (6.3 MB)\n",
            "\u001b[K     |████████████████████████████████| 6.3 MB 16.6 MB/s \n",
            "\u001b[?25hRequirement already satisfied: click>=4.0 in /usr/local/lib/python3.7/dist-packages (from fiona>=1.8->geopandas) (7.1.2)\n",
            "Collecting cligj>=0.5\n",
            "  Downloading cligj-0.7.2-py3-none-any.whl (7.1 kB)\n",
            "Requirement already satisfied: attrs>=17 in /usr/local/lib/python3.7/dist-packages (from fiona>=1.8->geopandas) (21.2.0)\n",
            "Requirement already satisfied: certifi in /usr/local/lib/python3.7/dist-packages (from fiona>=1.8->geopandas) (2021.5.30)\n",
            "Requirement already satisfied: six>=1.7 in /usr/local/lib/python3.7/dist-packages (from fiona>=1.8->geopandas) (1.15.0)\n",
            "Collecting munch\n",
            "  Downloading munch-2.5.0-py2.py3-none-any.whl (10 kB)\n",
            "Requirement already satisfied: setuptools in /usr/local/lib/python3.7/dist-packages (from fiona>=1.8->geopandas) (57.4.0)\n",
            "Collecting click-plugins>=1.0\n",
            "  Downloading click_plugins-1.1.1-py2.py3-none-any.whl (7.5 kB)\n",
            "Requirement already satisfied: python-dateutil>=2.7.3 in /usr/local/lib/python3.7/dist-packages (from pandas>=0.24.0->geopandas) (2.8.2)\n",
            "Requirement already satisfied: numpy>=1.15.4 in /usr/local/lib/python3.7/dist-packages (from pandas>=0.24.0->geopandas) (1.19.5)\n",
            "Requirement already satisfied: pytz>=2017.2 in /usr/local/lib/python3.7/dist-packages (from pandas>=0.24.0->geopandas) (2018.9)\n",
            "Installing collected packages: munch, cligj, click-plugins, pyproj, fiona, geopandas\n",
            "Successfully installed click-plugins-1.1.1 cligj-0.7.2 fiona-1.8.20 geopandas-0.9.0 munch-2.5.0 pyproj-3.2.1\n"
          ]
        }
      ]
    },
    {
      "cell_type": "code",
      "metadata": {
        "colab": {
          "base_uri": "https://localhost:8080/"
        },
        "id": "J-UFszRrAXkz",
        "outputId": "67bebe11-a526-4fa4-b12b-15bc1426e6a0"
      },
      "source": [
        "!git clone https://github.com/CityScope/CSL_HCMC"
      ],
      "execution_count": 2,
      "outputs": [
        {
          "output_type": "stream",
          "name": "stdout",
          "text": [
            "Cloning into 'CSL_HCMC'...\n",
            "remote: Enumerating objects: 1930, done.\u001b[K\n",
            "remote: Counting objects: 100% (590/590), done.\u001b[K\n",
            "remote: Compressing objects: 100% (315/315), done.\u001b[K\n",
            "remote: Total 1930 (delta 308), reused 500 (delta 269), pack-reused 1340\u001b[K\n",
            "Receiving objects: 100% (1930/1930), 179.02 MiB | 24.46 MiB/s, done.\n",
            "Resolving deltas: 100% (985/985), done.\n",
            "Checking out files: 100% (542/542), done.\n"
          ]
        }
      ]
    },
    {
      "cell_type": "code",
      "metadata": {
        "id": "Lds8d5B3XQab"
      },
      "source": [
        "import numpy as np\n",
        "import geopandas as gpd \n",
        "import seaborn as sns\n",
        "import matplotlib.pyplot as plt"
      ],
      "execution_count": 59,
      "outputs": []
    },
    {
      "cell_type": "code",
      "metadata": {
        "colab": {
          "base_uri": "https://localhost:8080/"
        },
        "id": "oNGTtTZcS190",
        "outputId": "dc7fa0f6-d1c3-4bd5-f99d-e00357970cde"
      },
      "source": [
        "!cd CSL_HCMC\n",
        "!ls -la"
      ],
      "execution_count": 5,
      "outputs": [
        {
          "output_type": "stream",
          "name": "stdout",
          "text": [
            "total 20\n",
            "drwxr-xr-x  1 root root 4096 Sep 22 02:17 .\n",
            "drwxr-xr-x  1 root root 4096 Sep 22 00:53 ..\n",
            "drwxr-xr-x  4 root root 4096 Sep 16 13:39 .config\n",
            "drwxr-xr-x 10 root root 4096 Sep 22 02:18 CSL_HCMC\n",
            "drwxr-xr-x  1 root root 4096 Sep 16 13:40 sample_data\n"
          ]
        }
      ]
    },
    {
      "cell_type": "code",
      "metadata": {
        "colab": {
          "base_uri": "https://localhost:8080/",
          "height": 589
        },
        "id": "cKxf74NQTETZ",
        "outputId": "66492574-947f-47b7-d175-2db7a55e4051"
      },
      "source": [
        "file = 'CSL_HCMC/Data/GIS/Population/population_HCMC/population_shapefile/Population_Ward_Level.shp'\n",
        "df = gpd.read_file(file)\n",
        "df "
      ],
      "execution_count": 9,
      "outputs": [
        {
          "output_type": "execute_result",
          "data": {
            "text/html": [
              "<div>\n",
              "<style scoped>\n",
              "    .dataframe tbody tr th:only-of-type {\n",
              "        vertical-align: middle;\n",
              "    }\n",
              "\n",
              "    .dataframe tbody tr th {\n",
              "        vertical-align: top;\n",
              "    }\n",
              "\n",
              "    .dataframe thead th {\n",
              "        text-align: right;\n",
              "    }\n",
              "</style>\n",
              "<table border=\"1\" class=\"dataframe\">\n",
              "  <thead>\n",
              "    <tr style=\"text-align: right;\">\n",
              "      <th></th>\n",
              "      <th>Com_Name</th>\n",
              "      <th>Dist_Name</th>\n",
              "      <th>Com_ID</th>\n",
              "      <th>Dist_ID</th>\n",
              "      <th>Level</th>\n",
              "      <th>Pop_2009</th>\n",
              "      <th>Pop_2019</th>\n",
              "      <th>Den_2009</th>\n",
              "      <th>Den_2019</th>\n",
              "      <th>Shape_Leng</th>\n",
              "      <th>Shape_Area</th>\n",
              "      <th>geometry</th>\n",
              "    </tr>\n",
              "  </thead>\n",
              "  <tbody>\n",
              "    <tr>\n",
              "      <th>0</th>\n",
              "      <td>Tan Dinh</td>\n",
              "      <td>District 1</td>\n",
              "      <td>26734</td>\n",
              "      <td>760</td>\n",
              "      <td>Ward</td>\n",
              "      <td>26571.0</td>\n",
              "      <td>23258.0</td>\n",
              "      <td>41942.70</td>\n",
              "      <td>36713.10</td>\n",
              "      <td>3679.098196</td>\n",
              "      <td>6.334981e+05</td>\n",
              "      <td>POLYGON ((684350.511 1193546.266, 684363.810 1...</td>\n",
              "    </tr>\n",
              "    <tr>\n",
              "      <th>1</th>\n",
              "      <td>Ben Nghe</td>\n",
              "      <td>District 1</td>\n",
              "      <td>26740</td>\n",
              "      <td>760</td>\n",
              "      <td>Ward</td>\n",
              "      <td>13580.0</td>\n",
              "      <td>10633.0</td>\n",
              "      <td>5480.09</td>\n",
              "      <td>4290.86</td>\n",
              "      <td>6978.149149</td>\n",
              "      <td>2.478041e+06</td>\n",
              "      <td>POLYGON ((686564.657 1193462.473, 686588.924 1...</td>\n",
              "    </tr>\n",
              "    <tr>\n",
              "      <th>2</th>\n",
              "      <td>Cau Ong Lanh</td>\n",
              "      <td>District 1</td>\n",
              "      <td>26752</td>\n",
              "      <td>760</td>\n",
              "      <td>Ward</td>\n",
              "      <td>12917.0</td>\n",
              "      <td>10737.0</td>\n",
              "      <td>56878.90</td>\n",
              "      <td>47279.50</td>\n",
              "      <td>2260.705105</td>\n",
              "      <td>2.270938e+05</td>\n",
              "      <td>POLYGON ((685922.373 1190479.807, 685914.160 1...</td>\n",
              "    </tr>\n",
              "    <tr>\n",
              "      <th>3</th>\n",
              "      <td>Nguyen Thai Binh</td>\n",
              "      <td>District 1</td>\n",
              "      <td>26746</td>\n",
              "      <td>760</td>\n",
              "      <td>Ward</td>\n",
              "      <td>13197.0</td>\n",
              "      <td>9716.0</td>\n",
              "      <td>26798.80</td>\n",
              "      <td>19730.00</td>\n",
              "      <td>3320.174618</td>\n",
              "      <td>4.924426e+05</td>\n",
              "      <td>POLYGON ((685966.333 1190513.667, 685944.353 1...</td>\n",
              "    </tr>\n",
              "    <tr>\n",
              "      <th>4</th>\n",
              "      <td>Co Giang</td>\n",
              "      <td>District 1</td>\n",
              "      <td>26755</td>\n",
              "      <td>760</td>\n",
              "      <td>Ward</td>\n",
              "      <td>18967.0</td>\n",
              "      <td>11517.0</td>\n",
              "      <td>53327.60</td>\n",
              "      <td>32381.20</td>\n",
              "      <td>2525.453814</td>\n",
              "      <td>3.556650e+05</td>\n",
              "      <td>POLYGON ((685514.573 1190211.431, 685547.521 1...</td>\n",
              "    </tr>\n",
              "    <tr>\n",
              "      <th>...</th>\n",
              "      <td>...</td>\n",
              "      <td>...</td>\n",
              "      <td>...</td>\n",
              "      <td>...</td>\n",
              "      <td>...</td>\n",
              "      <td>...</td>\n",
              "      <td>...</td>\n",
              "      <td>...</td>\n",
              "      <td>...</td>\n",
              "      <td>...</td>\n",
              "      <td>...</td>\n",
              "      <td>...</td>\n",
              "    </tr>\n",
              "    <tr>\n",
              "      <th>317</th>\n",
              "      <td>Tan Hung Thuan</td>\n",
              "      <td>District 12</td>\n",
              "      <td>26787</td>\n",
              "      <td>761</td>\n",
              "      <td>Ward</td>\n",
              "      <td>28892.0</td>\n",
              "      <td>33467.0</td>\n",
              "      <td>16053.40</td>\n",
              "      <td>18595.50</td>\n",
              "      <td>6271.308704</td>\n",
              "      <td>1.799659e+06</td>\n",
              "      <td>POLYGON ((677816.513 1197206.772, 677796.932 1...</td>\n",
              "    </tr>\n",
              "    <tr>\n",
              "      <th>318</th>\n",
              "      <td>Ward 17</td>\n",
              "      <td>Go Vap</td>\n",
              "      <td>26875</td>\n",
              "      <td>764</td>\n",
              "      <td>Ward</td>\n",
              "      <td>44226.0</td>\n",
              "      <td>54728.0</td>\n",
              "      <td>38061.20</td>\n",
              "      <td>47099.30</td>\n",
              "      <td>6385.950275</td>\n",
              "      <td>1.161947e+06</td>\n",
              "      <td>POLYGON ((683516.949 1200006.226, 683509.721 1...</td>\n",
              "    </tr>\n",
              "    <tr>\n",
              "      <th>319</th>\n",
              "      <td>Ward 8</td>\n",
              "      <td>Go Vap</td>\n",
              "      <td>26898</td>\n",
              "      <td>764</td>\n",
              "      <td>Ward</td>\n",
              "      <td>26545.0</td>\n",
              "      <td>32778.0</td>\n",
              "      <td>22751.50</td>\n",
              "      <td>28093.70</td>\n",
              "      <td>5409.821020</td>\n",
              "      <td>1.166701e+06</td>\n",
              "      <td>POLYGON ((680928.492 1199066.285, 680984.889 1...</td>\n",
              "    </tr>\n",
              "    <tr>\n",
              "      <th>320</th>\n",
              "      <td>Ward 9</td>\n",
              "      <td>Go Vap</td>\n",
              "      <td>26897</td>\n",
              "      <td>764</td>\n",
              "      <td>Ward</td>\n",
              "      <td>26785.0</td>\n",
              "      <td>34596.0</td>\n",
              "      <td>31843.10</td>\n",
              "      <td>41129.20</td>\n",
              "      <td>3950.799798</td>\n",
              "      <td>8.411288e+05</td>\n",
              "      <td>POLYGON ((681120.443 1199640.183, 681120.846 1...</td>\n",
              "    </tr>\n",
              "    <tr>\n",
              "      <th>321</th>\n",
              "      <td>Ward 12</td>\n",
              "      <td>Go Vap</td>\n",
              "      <td>26881</td>\n",
              "      <td>764</td>\n",
              "      <td>Ward</td>\n",
              "      <td>50356.0</td>\n",
              "      <td>60502.0</td>\n",
              "      <td>35096.20</td>\n",
              "      <td>42167.60</td>\n",
              "      <td>4848.143508</td>\n",
              "      <td>1.434747e+06</td>\n",
              "      <td>POLYGON ((679970.916 1198480.707, 679932.874 1...</td>\n",
              "    </tr>\n",
              "  </tbody>\n",
              "</table>\n",
              "<p>322 rows × 12 columns</p>\n",
              "</div>"
            ],
            "text/plain": [
              "             Com_Name  ...                                           geometry\n",
              "0            Tan Dinh  ...  POLYGON ((684350.511 1193546.266, 684363.810 1...\n",
              "1            Ben Nghe  ...  POLYGON ((686564.657 1193462.473, 686588.924 1...\n",
              "2        Cau Ong Lanh  ...  POLYGON ((685922.373 1190479.807, 685914.160 1...\n",
              "3    Nguyen Thai Binh  ...  POLYGON ((685966.333 1190513.667, 685944.353 1...\n",
              "4            Co Giang  ...  POLYGON ((685514.573 1190211.431, 685547.521 1...\n",
              "..                ...  ...                                                ...\n",
              "317    Tan Hung Thuan  ...  POLYGON ((677816.513 1197206.772, 677796.932 1...\n",
              "318           Ward 17  ...  POLYGON ((683516.949 1200006.226, 683509.721 1...\n",
              "319            Ward 8  ...  POLYGON ((680928.492 1199066.285, 680984.889 1...\n",
              "320            Ward 9  ...  POLYGON ((681120.443 1199640.183, 681120.846 1...\n",
              "321           Ward 12  ...  POLYGON ((679970.916 1198480.707, 679932.874 1...\n",
              "\n",
              "[322 rows x 12 columns]"
            ]
          },
          "metadata": {},
          "execution_count": 9
        }
      ]
    },
    {
      "cell_type": "code",
      "metadata": {
        "colab": {
          "base_uri": "https://localhost:8080/"
        },
        "id": "XuRiXi-NTF1J",
        "outputId": "1697dd00-3e7e-40c1-a947-ae95e1bb2b10"
      },
      "source": [
        "''' Phường có diện tích lớn nhất '''\n",
        "max_area_idx = np.argmax(df['Shape_Area'])\n",
        "print('Phường có diện tích lớn nhất là {} - {}'.format(df['Com_Name'][max_area_idx], df['Dist_Name'][min_area_idx]))"
      ],
      "execution_count": 64,
      "outputs": [
        {
          "output_type": "stream",
          "name": "stdout",
          "text": [
            "Phường có diện tích lớn nhất là Ly Nhon - District 10\n"
          ]
        }
      ]
    },
    {
      "cell_type": "code",
      "metadata": {
        "colab": {
          "base_uri": "https://localhost:8080/"
        },
        "id": "b20qZEZ8UhTa",
        "outputId": "9b6afb65-3a3c-4c73-d0f5-d67cbb437760"
      },
      "source": [
        "''' Phường nào có diện tích nhỏ nhất '''\n",
        "min_area_idx = np.argmin(df['Shape_Area'])\n",
        "df['Com_Name'][min_area_idx], df['Dist_Name'][min_area_idx]\n",
        "print('Phường có diện tích nhỏ nhất là {} - {}'.format(df['Com_Name'][min_area_idx], df['Dist_Name'][min_area_idx]))"
      ],
      "execution_count": 63,
      "outputs": [
        {
          "output_type": "stream",
          "name": "stdout",
          "text": [
            "Phường có diện tích nhỏ nhất là Ward 3 - District 10\n"
          ]
        }
      ]
    },
    {
      "cell_type": "code",
      "metadata": {
        "colab": {
          "base_uri": "https://localhost:8080/"
        },
        "id": "xvuKg64xV7VA",
        "outputId": "a2570396-3fa5-44dc-8525-120b49952b27"
      },
      "source": [
        "'''Phường nào có dân số 2019 (Pop_2019) cao nhất'''\n",
        "max_pop2019_idx = np.argmax(df['Pop_2019'])\n",
        "df['Com_Name'][max_pop2019_idx], df['Dist_Name'][max_pop2019_idx]\n",
        "print('Phường có dân số 2019 cao nhất là {} - {}'.format(df['Com_Name'][max_pop2019_idx], df['Dist_Name'][max_pop2019_idx]))"
      ],
      "execution_count": 65,
      "outputs": [
        {
          "output_type": "stream",
          "name": "stdout",
          "text": [
            "Phường có dân số 2019 cao nhất là Vinh Loc A - Binh Chanh\n"
          ]
        }
      ]
    },
    {
      "cell_type": "code",
      "metadata": {
        "colab": {
          "base_uri": "https://localhost:8080/"
        },
        "id": "xCo-rh3OX8rW",
        "outputId": "28e492da-2248-4bad-cba4-5319161c9546"
      },
      "source": [
        "'''Phường nào có dân số 2019 (Pop_2019) thấp nhất'''\n",
        "min_pop2019_idx = np.argmin(df['Pop_2019'])\n",
        "df['Com_Name'][min_pop2019_idx], df['Dist_Name'][min_pop2019_idx]\n",
        "print('Phường có dân số 2019 thấp nhất là {} - {}'.format(df['Com_Name'][min_pop2019_idx], df['Dist_Name'][min_pop2019_idx]))"
      ],
      "execution_count": 66,
      "outputs": [
        {
          "output_type": "stream",
          "name": "stdout",
          "text": [
            "Phường có dân số 2019 cao nhất là An Khanh - District 2\n"
          ]
        }
      ]
    },
    {
      "cell_type": "code",
      "metadata": {
        "colab": {
          "base_uri": "https://localhost:8080/"
        },
        "id": "yKwMYc7HYH7M",
        "outputId": "94857bbc-3526-4648-fd69-4e2803de249f"
      },
      "source": [
        "''' Phường nào có tốc độ tăng trưởng dân số nhanh nhất (dựa trên Pop_2009 và Pop_2019)'''\n",
        "df['Grow_rate'] = df.apply(lambda row: df['Pop_2019']/df['Pop_2009'])\n",
        "highest_rate_idx = np.argmax(df['Grow_rate'])\n",
        "df['Com_Name'][highest_rate_idx], df['Dist_Name'][highest_rate_idx]\n",
        "print('Phường có tốc độ tăng trưởng dân số nhanh nhất là {} - {}'.format(df['Com_Name'][highest_rate_idx], df['Dist_Name'][highest_rate_idx]))"
      ],
      "execution_count": 67,
      "outputs": [
        {
          "output_type": "stream",
          "name": "stdout",
          "text": [
            "Phường có tốc độ tăng trưởng dân số nhanh nhất là Phu Huu - District 9\n"
          ]
        }
      ]
    },
    {
      "cell_type": "code",
      "metadata": {
        "colab": {
          "base_uri": "https://localhost:8080/"
        },
        "id": "Muj-ckbsYd8K",
        "outputId": "3d833900-74f0-4e9c-85e5-67cf3916c71e"
      },
      "source": [
        "''' Phường nào có tốc độ tăng trưởng dân số thấp nhất'''\n",
        "lowest_rate_idx = np.argmin(df['Grow_rate'])\n",
        "df['Com_Name'][lowest_rate_idx], df['Dist_Name'][lowest_rate_idx]\n",
        "print('Phường có tốc độ tăng trưởng dân số thấp nhất là {} - {}'.format(df['Com_Name'][lowest_rate_idx], df['Dist_Name'][lowest_rate_idx]))"
      ],
      "execution_count": 68,
      "outputs": [
        {
          "output_type": "stream",
          "name": "stdout",
          "text": [
            "Phường có tốc độ tăng trưởng dân số thấp nhất là An Khanh - District 2\n"
          ]
        }
      ]
    },
    {
      "cell_type": "code",
      "metadata": {
        "colab": {
          "base_uri": "https://localhost:8080/"
        },
        "id": "o3xmkE6WZe0c",
        "outputId": "e97f8d62-73d0-459c-de8a-291eb4bd6de7"
      },
      "source": [
        "''' Phường nào có biến động dân số nhanh nhất'''\n",
        "df['Pop_change'] = df.apply(lambda row: 0)\n",
        "df['Pop_change'] = df.apply(lambda row: (df['Pop_2019'] - df['Pop_2009']))\n",
        "fastest_pop_change = np.argmax(df['Pop_change'])\n",
        "df['Com_Name'][fastest_pop_change], df['Dist_Name'][fastest_pop_change]\n",
        "print('Phường có tốc độ biến động dân số nhanh nhất là {} - {}'.format(df['Com_Name'][fastest_pop_change], df['Dist_Name'][fastest_pop_change]))"
      ],
      "execution_count": 69,
      "outputs": [
        {
          "output_type": "stream",
          "name": "stdout",
          "text": [
            "Phường có tốc độ biến động dân số nhanh nhất là Vinh Loc A - Binh Chanh\n"
          ]
        }
      ]
    },
    {
      "cell_type": "code",
      "metadata": {
        "colab": {
          "base_uri": "https://localhost:8080/"
        },
        "id": "4aoGtnraZ3_r",
        "outputId": "aa19f654-6bca-4f46-b062-52a542ac797a"
      },
      "source": [
        "''' Phường nào có biến động dân số chậm nhất'''\n",
        "slowest_pop_change = np.argmin(df['Pop_change'])\n",
        "df['Com_Name'][slowest_pop_change], df['Dist_Name'][slowest_pop_change]\n",
        "print('Phường có tốc độ biến động dân số chậm nhất là {} - {}'.format(df['Com_Name'][slowest_pop_change], df['Dist_Name'][slowest_pop_change]))"
      ],
      "execution_count": 70,
      "outputs": [
        {
          "output_type": "stream",
          "name": "stdout",
          "text": [
            "Phường có tốc độ biến động dân số chậm nhất là An Khanh - District 2\n"
          ]
        }
      ]
    },
    {
      "cell_type": "code",
      "metadata": {
        "colab": {
          "base_uri": "https://localhost:8080/"
        },
        "id": "Hhx7aC0dbDeX",
        "outputId": "7b7e00ac-f870-4a2f-b2eb-f9f0072ec906"
      },
      "source": [
        "''' Phường nào có mật độ dân số cao nhất (2019)'''\n",
        "df['Density'] = df.apply(lambda row: 0)\n",
        "df['Density'] = df.apply(lambda row: (df['Pop_2019']/df['Shape_Area']))\n",
        "highest_density = np.argmax(df['Density'])\n",
        "df['Com_Name'][highest_density], df['Dist_Name'][highest_density]\n",
        "print('Phường có mật độ dân số cao nhất 2019 là {} - {}'.format(df['Com_Name'][highest_density], df['Dist_Name'][highest_density]))"
      ],
      "execution_count": 71,
      "outputs": [
        {
          "output_type": "stream",
          "name": "stdout",
          "text": [
            "Phường có mật độ dân số cao nhất là Ward 8 - District 4\n"
          ]
        }
      ]
    },
    {
      "cell_type": "code",
      "metadata": {
        "colab": {
          "base_uri": "https://localhost:8080/"
        },
        "id": "FvLoIKhhbd2N",
        "outputId": "1543a323-75d4-4d74-d61f-d25e6efc5964"
      },
      "source": [
        "''' Phường nào có mật độ dân số thấp nhất (2019)'''\n",
        "lowest_density = np.argmin(df['Density'])\n",
        "df['Com_Name'][lowest_density], df['Dist_Name'][lowest_density]\n",
        "print('Phường có mật độ dân số thấp nhất 2019 là {} - {}'.format(df['Com_Name'][lowest_density], df['Dist_Name'][lowest_density]))"
      ],
      "execution_count": 72,
      "outputs": [
        {
          "output_type": "stream",
          "name": "stdout",
          "text": [
            "Phường có mật độ dân số thấp nhất 2019 là Ly Nhon - Can Gio\n"
          ]
        }
      ]
    }
  ]
}